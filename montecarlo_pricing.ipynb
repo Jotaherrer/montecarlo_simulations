{
 "cells": [
  {
   "cell_type": "markdown",
   "metadata": {},
   "source": [
    "# Montecarlo Simulations - Valuating financial derivatives"
   ]
  },
  {
   "cell_type": "markdown",
   "metadata": {},
   "source": [
    "## Summary\n",
    "\n",
    "* Montecarlo Valuation for Binomial\n",
    "* Montecarlo Valuation for Diffusion processes"
   ]
  },
  {
   "cell_type": "markdown",
   "metadata": {},
   "source": [
    "Monte Carlo simulation is one of the most important algorithms with several applications in many fields, including quantitative finance as one of the most important. Specifically in finance, it can be used to price derivatives from all kinds such as options, futures, swaps, variance swaps, amongs other exotic ones. "
   ]
  },
  {
   "cell_type": "markdown",
   "metadata": {},
   "source": [
    "It consists of the calculation of repeated random samplings to make numerical estimations of unknown parameters, which in the case that matters to us is the log return of a given asset, for continuos time return, and consequently its price at the end of a simulation. The final objective is to apply the law of large numbers to obtain a value that is close to the final price of the derivative after M simulations of several trading periods. "
   ]
  },
  {
   "cell_type": "markdown",
   "metadata": {},
   "source": []
  },
  {
   "cell_type": "markdown",
   "metadata": {},
   "source": [
    "In this task, computational power comes to hand as an important tool that allows us to perform thoursands of simulations of the M final payoffs of the derivative. In the following lines I'll process to demonstrate the application of this theory with a Python script."
   ]
  },
  {
   "cell_type": "markdown",
   "metadata": {},
   "source": [
    "## Import libraries"
   ]
  },
  {
   "cell_type": "code",
   "execution_count": 4,
   "metadata": {},
   "outputs": [],
   "source": [
    "from math import exp, log, sqrt\n",
    "import datetime as dt\n",
    "import numpy as np\n",
    "from opciones import Analysis\n",
    "import matplotlib.pyplot as plt "
   ]
  },
  {
   "cell_type": "markdown",
   "metadata": {},
   "source": [
    "## Programming functions for general cases"
   ]
  },
  {
   "cell_type": "code",
   "execution_count": 7,
   "metadata": {},
   "outputs": [],
   "source": [
    "def montecarlo_binominal(s0, strike, maturity, sigma, r, n, sims):\n",
    "    \"\"\"\n",
    "    Calculates the price of an option call by passing a set of parameters. \n",
    "    - s0: Underlying price at t0.\n",
    "    - strike: Contract value of the call option.\n",
    "    - maturity: period of time until the expiration of the contract in annual terms.\n",
    "    - sigma: estimated constant volatility in annual terms.\n",
    "    - r: estimated constant interest rate in annual terms.\n",
    "    - sims: number of M simulations of the payoff of the call option.\n",
    "    \"\"\"\n",
    "    delta = maturity / n\n",
    "    m = r - sigma**2 / 2\n",
    "    u = exp(m * delta + sigma * sqrt(delta))\n",
    "    d = exp(m * delta - sigma * sqrt(delta))\n",
    "    R = exp(r*delta)\n",
    "    p = (R-d) / (u-d)   \n",
    "\n",
    "    sims_vector = []\n",
    "    payoff_final = []\n",
    "    for w in range(sims):\n",
    "        ran = np.random.rand(n)\n",
    "        sims_vector.append(ran)\n",
    "\n",
    "        log_sims = []\n",
    "        for sim in ran:\n",
    "            if sim < p:\n",
    "                ret = log(d)\n",
    "                log_sims.append(ret)\n",
    "            elif sim > p:\n",
    "                ret = log(u)\n",
    "                log_sims.append(ret)\n",
    "        suma = s0 * exp(sum(log_sims))\n",
    "\n",
    "        po = max((suma-strike),0) \n",
    "        payoff_final.append(po)\n",
    "\n",
    "    call_mc = np.mean(payoff_final) * exp(-r*maturity)\n",
    "    return call_mc"
   ]
  },
  {
   "cell_type": "code",
   "execution_count": null,
   "metadata": {},
   "outputs": [],
   "source": []
  },
  {
   "cell_type": "code",
   "execution_count": null,
   "metadata": {},
   "outputs": [],
   "source": []
  }
 ],
 "metadata": {
  "kernelspec": {
   "display_name": "Python 3.8.3 64-bit",
   "language": "python",
   "name": "python38364bita4ef9cd3cabc4ea6b726e24826c32144"
  },
  "language_info": {
   "codemirror_mode": {
    "name": "ipython",
    "version": 3
   },
   "file_extension": ".py",
   "mimetype": "text/x-python",
   "name": "python",
   "nbconvert_exporter": "python",
   "pygments_lexer": "ipython3",
   "version": "3.8.3"
  }
 },
 "nbformat": 4,
 "nbformat_minor": 4
}
