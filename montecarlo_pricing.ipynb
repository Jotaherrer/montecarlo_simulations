{
 "cells": [
  {
   "cell_type": "markdown",
   "metadata": {},
   "source": [
    "# Montecarlo Simulations - Valuating financial derivatives"
   ]
  },
  {
   "cell_type": "markdown",
   "metadata": {},
   "source": [
    "## Summary\n",
    "\n",
    "* Montecarlo Valuation for Binomial\n",
    "* Montecarlo Valuation for Diffusion processes"
   ]
  },
  {
   "cell_type": "markdown",
   "metadata": {},
   "source": [
    "Monte Carlo simulation is one of the most important algorithms with several applications in many fields, including quantitative finance as one of the most important. Specifically in finance, it can be used to price derivatives from all kinds such as options, futures, swaps, variance swaps, amongs other exotic ones. "
   ]
  },
  {
   "cell_type": "markdown",
   "metadata": {},
   "source": [
    "It consists of the calculation of repeated random samplings to make numerical estimations of unknown parameters, which in the case that matters to us is the log return of a given asset, for continuos time return, and consequently its price at the end of a simulation. The final objective is to apply the law of large numbers to obtain a value that is close to the final price of the derivative after M simulations of several trading periods. "
   ]
  },
  {
   "cell_type": "markdown",
   "metadata": {},
   "source": [
    "<img src='simulation_montecarlo_diffusion.png'>"
   ]
  },
  {
   "cell_type": "markdown",
   "metadata": {},
   "source": [
    "In this task, computational power comes to hand as an important tool that allows us to perform thoursands of simulations of the M final payoffs of the derivative. In the following lines I'll process to demonstrate the application of this theory with a Python script."
   ]
  },
  {
   "cell_type": "markdown",
   "metadata": {},
   "source": [
    "## Import libraries"
   ]
  },
  {
   "cell_type": "code",
   "execution_count": null,
   "metadata": {},
   "outputs": [],
   "source": [
    "from math import exp, log, sqrt\n",
    "import datetime as dt\n",
    "import numpy as np\n",
    "from opciones import Analysis\n",
    "import matplotlib.pyplot as plt "
   ]
  },
  {
   "cell_type": "markdown",
   "metadata": {},
   "source": [
    "Imported library \"opciones\" constains a black & scholes calculator which I'll  be using to compare values."
   ]
  },
  {
   "cell_type": "markdown",
   "metadata": {},
   "source": [
    "## Programming functions for general cases"
   ]
  },
  {
   "cell_type": "code",
   "execution_count": 13,
   "metadata": {},
   "outputs": [],
   "source": [
    "def montecarlo_binominal(s0, strike, maturity, sigma, r, n, sims):\n",
    "    \"\"\"\n",
    "    Calculates the price of an option call with montecarlo binomial case by introducing a set of parameters. \n",
    "    - s0: Underlying price at t0.\n",
    "    - strike: Contract value of the call option.\n",
    "    - maturity: period of time until the expiration of the contract in annual terms.\n",
    "    - sigma: estimated constant volatility in annual terms.\n",
    "    - r: estimated constant interest rate in annual terms.\n",
    "    - sims: number of M simulations of the payoff of the call option.\n",
    "    \"\"\"\n",
    "    delta = maturity / n\n",
    "    m = r - sigma**2 / 2\n",
    "    u = exp(m * delta + sigma * sqrt(delta))\n",
    "    d = exp(m * delta - sigma * sqrt(delta))\n",
    "    R = exp(r*delta)\n",
    "    p = (R-d) / (u-d)   \n",
    "\n",
    "    sims_vector = []\n",
    "    payoff_final = []\n",
    "    for w in range(sims):\n",
    "        ran = np.random.rand(n)\n",
    "        sims_vector.append(ran)\n",
    "\n",
    "        log_sims = []\n",
    "        for sim in ran:\n",
    "            if sim < p:\n",
    "                ret = log(d)\n",
    "                log_sims.append(ret)\n",
    "            elif sim > p:\n",
    "                ret = log(u)\n",
    "                log_sims.append(ret)\n",
    "        suma = s0 * exp(sum(log_sims))\n",
    "\n",
    "        po = max((suma-strike),0) \n",
    "        payoff_final.append(po)\n",
    "\n",
    "    call_mc = np.mean(payoff_final) * exp(-r*maturity)\n",
    "\n",
    "    return call_mc, sims_vector, payoff_final"
   ]
  },
  {
   "cell_type": "code",
   "execution_count": 14,
   "metadata": {},
   "outputs": [],
   "source": [
    "def montecarlo_diffusion(s0,strike,maturity,sigma, r, n, sims):\n",
    "    \"\"\"\n",
    "    Calculates the price of an option call with montecarlo diffusion by introducing a set of parameters. \n",
    "    - s0: Underlying price at t0.\n",
    "    - strike: Contract value of the call option.\n",
    "    - maturity: period of time until the expiration of the contract in annual terms.\n",
    "    - sigma: estimated constant volatility in annual terms.\n",
    "    - r: estimated constant interest rate in annual terms.\n",
    "    - sims: number of M simulations of the payoff of the call option.\n",
    "    \"\"\"\n",
    "    m = r - sigma**2 / 2\n",
    "    delta = maturity/n\n",
    "\n",
    "    def create_sim(s0,r,sigma,n):\n",
    "        st = s0\n",
    "        def generate_value():\n",
    "            nonlocal st\n",
    "            for i in range(n):\n",
    "                st *= exp(m * delta + sigma * sqrt(delta) * np.random.randn())\n",
    "            return st\n",
    "        return generate_value()\n",
    "\n",
    "    sim_values = []\n",
    "    pf_final = []\n",
    "    for i in range(sims):\n",
    "        st = create_sim(s0,r,sigma,n)\n",
    "        sim_values.append(st)\n",
    "        pf = max(st - strike, 0) \n",
    "        pf_final.append(pf)\n",
    "\n",
    "    call_mc_2 = np.mean(pf_final) * exp(-r * maturity)\n",
    "    \n",
    "    return call_mc_2, sim_values, pf_final"
   ]
  },
  {
   "cell_type": "markdown",
   "metadata": {},
   "source": [
    "## Inputs for functions:"
   ]
  },
  {
   "cell_type": "code",
   "execution_count": 15,
   "metadata": {},
   "outputs": [],
   "source": [
    "s0 = 100\n",
    "k = 100\n",
    "sigma = 0.3\n",
    "r = 0.045 \n",
    "maturity = 1/12\n",
    "n = 30\n",
    "simulations = 20000\n",
    "today = dt.datetime.today()"
   ]
  },
  {
   "cell_type": "markdown",
   "metadata": {},
   "source": [
    "### Black & Scholes calculation for the option call price"
   ]
  },
  {
   "cell_type": "code",
   "execution_count": 18,
   "metadata": {},
   "outputs": [],
   "source": [
    "test_analysis = Analysis(s0,maturity,today,maturity,r,sigma)\n",
    "call_bs = test_analysis.black_scholes(s0,strike,maturity,r,sigma)[2]"
   ]
  },
  {
   "cell_type": "code",
   "execution_count": 19,
   "metadata": {},
   "outputs": [
    {
     "data": {
      "text/plain": [
       "3.637776548563096"
      ]
     },
     "execution_count": 19,
     "metadata": {},
     "output_type": "execute_result"
    }
   ],
   "source": [
    "call_bs"
   ]
  },
  {
   "cell_type": "markdown",
   "metadata": {},
   "source": [
    "## Montecarlo simulatios - Option call prices:"
   ]
  },
  {
   "cell_type": "markdown",
   "metadata": {},
   "source": [
    "As it can be appreciated, the call option prices gets pretty similar values for the 20.000 simulations perfomed. In case further precission is wanted, we could increase the number of simulations."
   ]
  },
  {
   "cell_type": "code",
   "execution_count": 20,
   "metadata": {},
   "outputs": [
    {
     "name": "stdout",
     "output_type": "stream",
     "text": [
      "Valuacion del call por Montecarlo Normal: 3.6594545468702653\n",
      "Valuacion del call por Montecarlo Binomial: 3.6231932857914777\n",
      "Valuacion del call por B&S: 3.637776548563096\n"
     ]
    }
   ],
   "source": [
    "call_mt = montecarlo_diffusion(s0, k, maturity, sigma, r, n, simulations)\n",
    "call_mt_b = montecarlo_binominal(s0, k, maturity, sigma, r,n,simulations)\n",
    "print(f'Valuacion del call por Montecarlo Normal: {call_mt[0]}\\nValuacion del call por Montecarlo Binomial: {call_mt_b[0]}\\nValuacion del call por B&S: {call_bs}')"
   ]
  },
  {
   "cell_type": "markdown",
   "metadata": {},
   "source": [
    "## Utilizing standard deviation as a test for the result"
   ]
  },
  {
   "cell_type": "code",
   "execution_count": 21,
   "metadata": {},
   "outputs": [
    {
     "name": "stdout",
     "output_type": "stream",
     "text": [
      "Desvio estandar Montecarlo Normal: 0.0389\n",
      "Desvio estandar Montecarlo Binomial: 0.0389\n"
     ]
    }
   ],
   "source": [
    "payoffs = np.array(call_mt[2]) * exp(-r * maturity)     # Retorno vector de payoffs descontados\n",
    "std = np.std(payoffs) / sqrt(simulations)\n",
    "payoffs2 = np.array(call_mt_b[2]) * exp(-r * maturity)\n",
    "std2 = np.std(payoffs2) / sqrt(simulations)\n",
    "print(f'Desvio estandar Montecarlo Normal: {round(std,4)}\\nDesvio estandar Montecarlo Binomial: {round(std2,4)}')"
   ]
  },
  {
   "cell_type": "code",
   "execution_count": 22,
   "metadata": {},
   "outputs": [
    {
     "name": "stdout",
     "output_type": "stream",
     "text": [
      "Testing de valores obtenidos:\n",
      "Mu 1 = -0.005 VS 0.0\n",
      "Mu 2 = 0.041 VS 0.045\n",
      "Mu 3 = 0.092 VS 0.09\n",
      "Mu 4 = 0.093 VS 0.09\n"
     ]
    }
   ],
   "source": [
    "j_spots = np.array(call_mt[1])\n",
    "m = r-(sigma**2)/2\n",
    "\n",
    "mu1 = sum(np.log(j_spots/s0))/maturity/simulations\n",
    "mu2 = sum((j_spots-s0) / s0) / maturity / simulations\n",
    "mu3 = sum(np.log(j_spots/s0)**2) / maturity / simulations\n",
    "mu4 = sum(((j_spots-s0) / s0)**2) / maturity / simulations\n",
    "\n",
    "print('Testing de valores obtenidos:')\n",
    "print(f'Mu 1 = {round(mu1,3)} VS {round(m,3)}\\nMu 2 = {round(mu2,3)} VS {round(r,3)}\\nMu 3 = {round(mu3,3)} VS {round(sigma**2,3)}\\nMu 4 = {round(mu4,3)} VS {round(sigma**2,3)}')"
   ]
  }
 ],
 "metadata": {
  "kernelspec": {
   "display_name": "Python 3.8.3 64-bit",
   "language": "python",
   "name": "python38364bita4ef9cd3cabc4ea6b726e24826c32144"
  },
  "language_info": {
   "codemirror_mode": {
    "name": "ipython",
    "version": 3
   },
   "file_extension": ".py",
   "mimetype": "text/x-python",
   "name": "python",
   "nbconvert_exporter": "python",
   "pygments_lexer": "ipython3",
   "version": "3.8.3"
  }
 },
 "nbformat": 4,
 "nbformat_minor": 4
}
